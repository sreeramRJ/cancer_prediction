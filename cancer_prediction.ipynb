{
 "cells": [
  {
   "cell_type": "code",
   "execution_count": 2,
   "metadata": {},
   "outputs": [],
   "source": [
    "import pandas as pd\n",
    "import glob\n",
    "import numpy as np\n",
    "\n",
    "# import warnings filter\n",
    "from warnings import simplefilter\n",
    "# ignore all future warnings\n",
    "simplefilter(action='ignore', category = FutureWarning)\n",
    "# import warnings filter\n",
    "from warnings import simplefilter\n",
    "# ignore all future warnings\n",
    "simplefilter(action='ignore', category = FutureWarning)"
   ]
  },
  {
   "cell_type": "code",
   "execution_count": 3,
   "metadata": {},
   "outputs": [],
   "source": [
    "cancer_train_data = pd.read_csv(\"Technical Interview/task_1_cancer/train_data.csv\")\n",
    "cancer_test_data = pd.read_csv(\"Technical Interview/task_1_cancer/test_data.csv\")"
   ]
  },
  {
   "cell_type": "code",
   "execution_count": 5,
   "metadata": {},
   "outputs": [
    {
     "data": {
      "text/html": [
       "<div>\n",
       "<style scoped>\n",
       "    .dataframe tbody tr th:only-of-type {\n",
       "        vertical-align: middle;\n",
       "    }\n",
       "\n",
       "    .dataframe tbody tr th {\n",
       "        vertical-align: top;\n",
       "    }\n",
       "\n",
       "    .dataframe thead th {\n",
       "        text-align: right;\n",
       "    }\n",
       "</style>\n",
       "<table border=\"1\" class=\"dataframe\">\n",
       "  <thead>\n",
       "    <tr style=\"text-align: right;\">\n",
       "      <th></th>\n",
       "      <th>radius_0</th>\n",
       "      <th>texture_0</th>\n",
       "      <th>perimeter_0</th>\n",
       "      <th>radius_1</th>\n",
       "      <th>texture_1</th>\n",
       "      <th>perimeter_1</th>\n",
       "      <th>radius_2</th>\n",
       "      <th>texture_2</th>\n",
       "      <th>perimeter_2</th>\n",
       "      <th>age</th>\n",
       "      <th>treatment_date</th>\n",
       "      <th>diagnose_date</th>\n",
       "      <th>cancer_type</th>\n",
       "    </tr>\n",
       "  </thead>\n",
       "  <tbody>\n",
       "    <tr>\n",
       "      <th>0</th>\n",
       "      <td>19.858394</td>\n",
       "      <td>27.204437</td>\n",
       "      <td>136.324256</td>\n",
       "      <td>22.683290</td>\n",
       "      <td>32.802578</td>\n",
       "      <td>119.523841</td>\n",
       "      <td>21.477052</td>\n",
       "      <td>27.3070874472</td>\n",
       "      <td>82.366936</td>\n",
       "      <td>44</td>\n",
       "      <td>2006-06-03</td>\n",
       "      <td>2005-10-23</td>\n",
       "      <td>0</td>\n",
       "    </tr>\n",
       "    <tr>\n",
       "      <th>1</th>\n",
       "      <td>14.182069</td>\n",
       "      <td>15.754730</td>\n",
       "      <td>80.916983</td>\n",
       "      <td>14.043753</td>\n",
       "      <td>30.094704</td>\n",
       "      <td>94.911073</td>\n",
       "      <td>15.012329</td>\n",
       "      <td>17.8551305385</td>\n",
       "      <td>103.078286</td>\n",
       "      <td>59</td>\n",
       "      <td>2004-02-22</td>\n",
       "      <td>2007-08-20</td>\n",
       "      <td>1</td>\n",
       "    </tr>\n",
       "    <tr>\n",
       "      <th>2</th>\n",
       "      <td>25.380268</td>\n",
       "      <td>21.291553</td>\n",
       "      <td>152.281062</td>\n",
       "      <td>23.852166</td>\n",
       "      <td>46.237931</td>\n",
       "      <td>NaN</td>\n",
       "      <td>28.563252</td>\n",
       "      <td>21.0971528265</td>\n",
       "      <td>143.367792</td>\n",
       "      <td>37</td>\n",
       "      <td>2006-01-06</td>\n",
       "      <td>2004-08-07</td>\n",
       "      <td>0</td>\n",
       "    </tr>\n",
       "    <tr>\n",
       "      <th>3</th>\n",
       "      <td>11.835961</td>\n",
       "      <td>17.820702</td>\n",
       "      <td>72.178523</td>\n",
       "      <td>11.260258</td>\n",
       "      <td>44.805167</td>\n",
       "      <td>NaN</td>\n",
       "      <td>12.082749</td>\n",
       "      <td>16.4992370844</td>\n",
       "      <td>65.920413</td>\n",
       "      <td>51</td>\n",
       "      <td>2003-04-14</td>\n",
       "      <td>2005-06-16</td>\n",
       "      <td>1</td>\n",
       "    </tr>\n",
       "    <tr>\n",
       "      <th>4</th>\n",
       "      <td>14.875600</td>\n",
       "      <td>17.534187</td>\n",
       "      <td>98.545830</td>\n",
       "      <td>14.380683</td>\n",
       "      <td>26.190447</td>\n",
       "      <td>89.712492</td>\n",
       "      <td>12.930685</td>\n",
       "      <td>19.8566873539</td>\n",
       "      <td>108.380754</td>\n",
       "      <td>21</td>\n",
       "      <td>2004-06-21</td>\n",
       "      <td>2002-11-27</td>\n",
       "      <td>1</td>\n",
       "    </tr>\n",
       "  </tbody>\n",
       "</table>\n",
       "</div>"
      ],
      "text/plain": [
       "    radius_0  texture_0  perimeter_0   radius_1  texture_1  perimeter_1  \\\n",
       "0  19.858394  27.204437   136.324256  22.683290  32.802578   119.523841   \n",
       "1  14.182069  15.754730    80.916983  14.043753  30.094704    94.911073   \n",
       "2  25.380268  21.291553   152.281062  23.852166  46.237931          NaN   \n",
       "3  11.835961  17.820702    72.178523  11.260258  44.805167          NaN   \n",
       "4  14.875600  17.534187    98.545830  14.380683  26.190447    89.712492   \n",
       "\n",
       "    radius_2      texture_2  perimeter_2  age treatment_date diagnose_date  \\\n",
       "0  21.477052  27.3070874472    82.366936   44     2006-06-03    2005-10-23   \n",
       "1  15.012329  17.8551305385   103.078286   59     2004-02-22    2007-08-20   \n",
       "2  28.563252  21.0971528265   143.367792   37     2006-01-06    2004-08-07   \n",
       "3  12.082749  16.4992370844    65.920413   51     2003-04-14    2005-06-16   \n",
       "4  12.930685  19.8566873539   108.380754   21     2004-06-21    2002-11-27   \n",
       "\n",
       "   cancer_type  \n",
       "0            0  \n",
       "1            1  \n",
       "2            0  \n",
       "3            1  \n",
       "4            1  "
      ]
     },
     "execution_count": 5,
     "metadata": {},
     "output_type": "execute_result"
    }
   ],
   "source": [
    "cancer_train_data.head()"
   ]
  },
  {
   "cell_type": "code",
   "execution_count": 118,
   "metadata": {},
   "outputs": [
    {
     "data": {
      "text/html": [
       "<div>\n",
       "<style scoped>\n",
       "    .dataframe tbody tr th:only-of-type {\n",
       "        vertical-align: middle;\n",
       "    }\n",
       "\n",
       "    .dataframe tbody tr th {\n",
       "        vertical-align: top;\n",
       "    }\n",
       "\n",
       "    .dataframe thead th {\n",
       "        text-align: right;\n",
       "    }\n",
       "</style>\n",
       "<table border=\"1\" class=\"dataframe\">\n",
       "  <thead>\n",
       "    <tr style=\"text-align: right;\">\n",
       "      <th></th>\n",
       "      <th>radius_0</th>\n",
       "      <th>texture_0</th>\n",
       "      <th>perimeter_0</th>\n",
       "      <th>radius_1</th>\n",
       "      <th>texture_1</th>\n",
       "      <th>perimeter_1</th>\n",
       "      <th>radius_2</th>\n",
       "      <th>perimeter_2</th>\n",
       "      <th>age</th>\n",
       "      <th>cancer_type</th>\n",
       "    </tr>\n",
       "  </thead>\n",
       "  <tbody>\n",
       "    <tr>\n",
       "      <th>count</th>\n",
       "      <td>398.000000</td>\n",
       "      <td>398.000000</td>\n",
       "      <td>398.000000</td>\n",
       "      <td>343.000000</td>\n",
       "      <td>398.000000</td>\n",
       "      <td>264.000000</td>\n",
       "      <td>398.000000</td>\n",
       "      <td>398.000000</td>\n",
       "      <td>398.000000</td>\n",
       "      <td>398.000000</td>\n",
       "    </tr>\n",
       "    <tr>\n",
       "      <th>mean</th>\n",
       "      <td>21.303711</td>\n",
       "      <td>18.957554</td>\n",
       "      <td>92.128890</td>\n",
       "      <td>14.123575</td>\n",
       "      <td>30.417222</td>\n",
       "      <td>94.086379</td>\n",
       "      <td>14.134922</td>\n",
       "      <td>127.222422</td>\n",
       "      <td>39.876884</td>\n",
       "      <td>0.628141</td>\n",
       "    </tr>\n",
       "    <tr>\n",
       "      <th>std</th>\n",
       "      <td>49.987646</td>\n",
       "      <td>6.243499</td>\n",
       "      <td>25.159787</td>\n",
       "      <td>3.780636</td>\n",
       "      <td>15.027855</td>\n",
       "      <td>27.314466</td>\n",
       "      <td>3.748146</td>\n",
       "      <td>49.097558</td>\n",
       "      <td>13.427196</td>\n",
       "      <td>0.483909</td>\n",
       "    </tr>\n",
       "    <tr>\n",
       "      <th>min</th>\n",
       "      <td>6.401956</td>\n",
       "      <td>-17.243202</td>\n",
       "      <td>45.612505</td>\n",
       "      <td>5.752395</td>\n",
       "      <td>2.395868</td>\n",
       "      <td>43.444930</td>\n",
       "      <td>7.079847</td>\n",
       "      <td>44.918942</td>\n",
       "      <td>18.000000</td>\n",
       "      <td>0.000000</td>\n",
       "    </tr>\n",
       "    <tr>\n",
       "      <th>25%</th>\n",
       "      <td>11.693885</td>\n",
       "      <td>14.581364</td>\n",
       "      <td>74.975361</td>\n",
       "      <td>11.600838</td>\n",
       "      <td>19.898062</td>\n",
       "      <td>75.188880</td>\n",
       "      <td>11.573592</td>\n",
       "      <td>84.123724</td>\n",
       "      <td>28.000000</td>\n",
       "      <td>0.000000</td>\n",
       "    </tr>\n",
       "    <tr>\n",
       "      <th>50%</th>\n",
       "      <td>13.468170</td>\n",
       "      <td>18.238742</td>\n",
       "      <td>87.376764</td>\n",
       "      <td>13.385789</td>\n",
       "      <td>30.897762</td>\n",
       "      <td>90.054613</td>\n",
       "      <td>13.333610</td>\n",
       "      <td>129.992697</td>\n",
       "      <td>39.000000</td>\n",
       "      <td>1.000000</td>\n",
       "    </tr>\n",
       "    <tr>\n",
       "      <th>75%</th>\n",
       "      <td>16.323024</td>\n",
       "      <td>22.494291</td>\n",
       "      <td>104.876420</td>\n",
       "      <td>16.051640</td>\n",
       "      <td>42.555657</td>\n",
       "      <td>106.085670</td>\n",
       "      <td>16.093900</td>\n",
       "      <td>169.538170</td>\n",
       "      <td>50.000000</td>\n",
       "      <td>1.000000</td>\n",
       "    </tr>\n",
       "    <tr>\n",
       "      <th>max</th>\n",
       "      <td>561.311068</td>\n",
       "      <td>40.064462</td>\n",
       "      <td>193.755763</td>\n",
       "      <td>29.645166</td>\n",
       "      <td>55.820612</td>\n",
       "      <td>227.162938</td>\n",
       "      <td>28.563252</td>\n",
       "      <td>214.192377</td>\n",
       "      <td>64.000000</td>\n",
       "      <td>1.000000</td>\n",
       "    </tr>\n",
       "  </tbody>\n",
       "</table>\n",
       "</div>"
      ],
      "text/plain": [
       "         radius_0   texture_0  perimeter_0    radius_1   texture_1  \\\n",
       "count  398.000000  398.000000   398.000000  343.000000  398.000000   \n",
       "mean    21.303711   18.957554    92.128890   14.123575   30.417222   \n",
       "std     49.987646    6.243499    25.159787    3.780636   15.027855   \n",
       "min      6.401956  -17.243202    45.612505    5.752395    2.395868   \n",
       "25%     11.693885   14.581364    74.975361   11.600838   19.898062   \n",
       "50%     13.468170   18.238742    87.376764   13.385789   30.897762   \n",
       "75%     16.323024   22.494291   104.876420   16.051640   42.555657   \n",
       "max    561.311068   40.064462   193.755763   29.645166   55.820612   \n",
       "\n",
       "       perimeter_1    radius_2  perimeter_2         age  cancer_type  \n",
       "count   264.000000  398.000000   398.000000  398.000000   398.000000  \n",
       "mean     94.086379   14.134922   127.222422   39.876884     0.628141  \n",
       "std      27.314466    3.748146    49.097558   13.427196     0.483909  \n",
       "min      43.444930    7.079847    44.918942   18.000000     0.000000  \n",
       "25%      75.188880   11.573592    84.123724   28.000000     0.000000  \n",
       "50%      90.054613   13.333610   129.992697   39.000000     1.000000  \n",
       "75%     106.085670   16.093900   169.538170   50.000000     1.000000  \n",
       "max     227.162938   28.563252   214.192377   64.000000     1.000000  "
      ]
     },
     "execution_count": 118,
     "metadata": {},
     "output_type": "execute_result"
    }
   ],
   "source": [
    "cancer_train_data.describe()"
   ]
  },
  {
   "cell_type": "code",
   "execution_count": 120,
   "metadata": {},
   "outputs": [
    {
     "data": {
      "text/plain": [
       "array([0, 1], dtype=int64)"
      ]
     },
     "execution_count": 120,
     "metadata": {},
     "output_type": "execute_result"
    }
   ],
   "source": [
    "cancer_train_data['cancer_type'].unique()"
   ]
  },
  {
   "cell_type": "code",
   "execution_count": 128,
   "metadata": {},
   "outputs": [
    {
     "data": {
      "text/plain": [
       "radius_0          float64\n",
       "texture_0         float64\n",
       "perimeter_0       float64\n",
       "radius_1          float64\n",
       "texture_1         float64\n",
       "perimeter_1       float64\n",
       "radius_2          float64\n",
       "texture_2          object\n",
       "perimeter_2       float64\n",
       "age                 int64\n",
       "treatment_date     object\n",
       "diagnose_date      object\n",
       "cancer_type         int64\n",
       "dtype: object"
      ]
     },
     "execution_count": 128,
     "metadata": {},
     "output_type": "execute_result"
    }
   ],
   "source": [
    "cancer_train_data.dtypes"
   ]
  },
  {
   "cell_type": "code",
   "execution_count": 4,
   "metadata": {},
   "outputs": [],
   "source": [
    "date_columns = ['texture_2']\n",
    "cancer_train_data = (cancer_train_data\n",
    "             .drop(date_columns, axis=1)\n",
    "             .join(cancer_train_data[date_columns].apply(pd.to_numeric, errors='coerce')))\n",
    "cancer_test_data = (cancer_test_data\n",
    "             .drop(date_columns, axis=1)\n",
    "             .join(cancer_test_data[date_columns].apply(pd.to_numeric, errors='coerce')))"
   ]
  },
  {
   "cell_type": "code",
   "execution_count": 123,
   "metadata": {},
   "outputs": [
    {
     "data": {
      "text/plain": [
       "radius_0          float64\n",
       "texture_0         float64\n",
       "perimeter_0       float64\n",
       "radius_1          float64\n",
       "texture_1         float64\n",
       "perimeter_1       float64\n",
       "radius_2          float64\n",
       "perimeter_2       float64\n",
       "age                 int64\n",
       "treatment_date     object\n",
       "diagnose_date      object\n",
       "texture_2         float64\n",
       "dtype: object"
      ]
     },
     "execution_count": 123,
     "metadata": {},
     "output_type": "execute_result"
    }
   ],
   "source": [
    "cancer_test_data.dtypes"
   ]
  },
  {
   "cell_type": "code",
   "execution_count": 139,
   "metadata": {},
   "outputs": [
    {
     "data": {
      "text/plain": [
       "radius_0          0\n",
       "texture_0         0\n",
       "perimeter_0       0\n",
       "radius_1          0\n",
       "texture_1         0\n",
       "perimeter_1       0\n",
       "radius_2          0\n",
       "perimeter_2       0\n",
       "age               0\n",
       "treatment_date    0\n",
       "diagnose_date     0\n",
       "texture_2         0\n",
       "dtype: int64"
      ]
     },
     "execution_count": 139,
     "metadata": {},
     "output_type": "execute_result"
    }
   ],
   "source": [
    "cancer_test_data.isnull().sum()"
   ]
  },
  {
   "cell_type": "code",
   "execution_count": 5,
   "metadata": {},
   "outputs": [],
   "source": [
    "cancer_train_data.loc[(cancer_train_data['radius_1'].isnull()) & (cancer_train_data['cancer_type'] == 0),'radius_1'] = cancer_train_data.loc[cancer_train_data['cancer_type'] == 0,'radius_1'].mean() \n",
    "cancer_train_data.loc[(cancer_train_data['radius_1'].isnull()) & (cancer_train_data['cancer_type'] == 1),'radius_1'] = cancer_train_data.loc[cancer_train_data['cancer_type'] == 1,'radius_1'].mean()\n",
    "\n",
    "cancer_test_data.loc[(cancer_test_data['radius_1'].isnull()),'radius_1'] = cancer_test_data['radius_1'].mean()"
   ]
  },
  {
   "cell_type": "code",
   "execution_count": 6,
   "metadata": {},
   "outputs": [],
   "source": [
    "cancer_train_data.loc[(cancer_train_data['perimeter_1'].isnull()) & (cancer_train_data['cancer_type'] == 0),'perimeter_1'] = cancer_train_data.loc[cancer_train_data['cancer_type'] == 0,'perimeter_1'].mean() \n",
    "cancer_train_data.loc[(cancer_train_data['perimeter_1'].isnull()) & (cancer_train_data['cancer_type'] == 1),'perimeter_1'] = cancer_train_data.loc[cancer_train_data['cancer_type'] == 1,'perimeter_1'].mean()\n",
    "\n",
    "cancer_test_data.loc[(cancer_test_data['perimeter_1'].isnull()),'perimeter_1'] = cancer_test_data['perimeter_1'].mean()"
   ]
  },
  {
   "cell_type": "code",
   "execution_count": 7,
   "metadata": {},
   "outputs": [],
   "source": [
    "cancer_train_data.loc[(cancer_train_data['texture_2'].isnull()) & (cancer_train_data['cancer_type'] == 0),'texture_2'] = cancer_train_data.loc[cancer_train_data['cancer_type'] == 0,'texture_2'].mean() \n",
    "cancer_train_data.loc[(cancer_train_data['texture_2'].isnull()) & (cancer_train_data['cancer_type'] == 1),'texture_2'] = cancer_train_data.loc[cancer_train_data['cancer_type'] == 1,'texture_2'].mean()\n",
    "\n",
    "cancer_test_data.loc[(cancer_test_data['texture_2'].isnull()),'texture_2'] = cancer_test_data['texture_2'].mean()"
   ]
  },
  {
   "cell_type": "code",
   "execution_count": 8,
   "metadata": {},
   "outputs": [],
   "source": [
    "import seaborn as sns\n",
    "import matplotlib.pyplot as plt"
   ]
  },
  {
   "cell_type": "code",
   "execution_count": 9,
   "metadata": {},
   "outputs": [
    {
     "data": {
      "text/plain": [
       "<Figure size 864x864 with 0 Axes>"
      ]
     },
     "metadata": {},
     "output_type": "display_data"
    }
   ],
   "source": [
    "plt.rcParams[\"figure.figsize\"] = (12,12)\n",
    "plt.subplots_adjust(top = 1.5,hspace = 3.0)"
   ]
  },
  {
   "cell_type": "code",
   "execution_count": 10,
   "metadata": {},
   "outputs": [
    {
     "data": {
      "text/plain": [
       "array([[<matplotlib.axes._subplots.AxesSubplot object at 0x000002224EA91B70>,\n",
       "        <matplotlib.axes._subplots.AxesSubplot object at 0x000002224F47B668>,\n",
       "        <matplotlib.axes._subplots.AxesSubplot object at 0x000002224F180BE0>],\n",
       "       [<matplotlib.axes._subplots.AxesSubplot object at 0x000002224F1BE1D0>,\n",
       "        <matplotlib.axes._subplots.AxesSubplot object at 0x000002224F1EE780>,\n",
       "        <matplotlib.axes._subplots.AxesSubplot object at 0x000002224F21FD30>],\n",
       "       [<matplotlib.axes._subplots.AxesSubplot object at 0x000002224F25E320>,\n",
       "        <matplotlib.axes._subplots.AxesSubplot object at 0x000002224F28E908>,\n",
       "        <matplotlib.axes._subplots.AxesSubplot object at 0x000002224F28E940>],\n",
       "       [<matplotlib.axes._subplots.AxesSubplot object at 0x000002224F2FB470>,\n",
       "        <matplotlib.axes._subplots.AxesSubplot object at 0x000002224F32CA20>,\n",
       "        <matplotlib.axes._subplots.AxesSubplot object at 0x000002224F35DFD0>]],\n",
       "      dtype=object)"
      ]
     },
     "execution_count": 10,
     "metadata": {},
     "output_type": "execute_result"
    },
    {
     "data": {
      "image/png": "[encoded data removed]",
      "text/plain": [
       "<Figure size 864x864 with 12 Axes>"
      ]
     },
     "metadata": {
      "needs_background": "light"
     },
     "output_type": "display_data"
    }
   ],
   "source": [
    "cancer_train_data.hist()"
   ]
  },
  {
   "cell_type": "code",
   "execution_count": 11,
   "metadata": {},
   "outputs": [
    {
     "data": {
      "text/html": [
       "<style  type=\"text/css\" >\n",
       "    #T_5256ca8c_9f51_11ea_8dfc_2016b9e6ea37row0_col0 {\n",
       "            background-color:  #b40426;\n",
       "            color:  #f1f1f1;\n",
       "        }    #T_5256ca8c_9f51_11ea_8dfc_2016b9e6ea37row0_col1 {\n",
       "            background-color:  #97b8ff;\n",
       "            color:  #000000;\n",
       "        }    #T_5256ca8c_9f51_11ea_8dfc_2016b9e6ea37row0_col2 {\n",
       "            background-color:  #d9dce1;\n",
       "            color:  #000000;\n",
       "        }    #T_5256ca8c_9f51_11ea_8dfc_2016b9e6ea37row0_col3 {\n",
       "            background-color:  #dadce0;\n",
       "            color:  #000000;\n",
       "        }    #T_5256ca8c_9f51_11ea_8dfc_2016b9e6ea37row0_col4 {\n",
       "            background-color:  #7da0f9;\n",
       "            color:  #000000;\n",
       "        }    #T_5256ca8c_9f51_11ea_8dfc_2016b9e6ea37row0_col5 {\n",
       "            background-color:  #dfdbd9;\n",
       "            color:  #000000;\n",
       "        }    #T_5256ca8c_9f51_11ea_8dfc_2016b9e6ea37row0_col6 {\n",
       "            background-color:  #dadce0;\n",
       "            color:  #000000;\n",
       "        }    #T_5256ca8c_9f51_11ea_8dfc_2016b9e6ea37row0_col7 {\n",
       "            background-color:  #3b4cc0;\n",
       "            color:  #f1f1f1;\n",
       "        }    #T_5256ca8c_9f51_11ea_8dfc_2016b9e6ea37row0_col8 {\n",
       "            background-color:  #6788ee;\n",
       "            color:  #000000;\n",
       "        }    #T_5256ca8c_9f51_11ea_8dfc_2016b9e6ea37row0_col9 {\n",
       "            background-color:  #abc8fd;\n",
       "            color:  #000000;\n",
       "        }    #T_5256ca8c_9f51_11ea_8dfc_2016b9e6ea37row0_col10 {\n",
       "            background-color:  #a3c2fe;\n",
       "            color:  #000000;\n",
       "        }    #T_5256ca8c_9f51_11ea_8dfc_2016b9e6ea37row1_col0 {\n",
       "            background-color:  #82a6fb;\n",
       "            color:  #000000;\n",
       "        }    #T_5256ca8c_9f51_11ea_8dfc_2016b9e6ea37row1_col1 {\n",
       "            background-color:  #b40426;\n",
       "            color:  #f1f1f1;\n",
       "        }    #T_5256ca8c_9f51_11ea_8dfc_2016b9e6ea37row1_col2 {\n",
       "            background-color:  #e1dad6;\n",
       "            color:  #000000;\n",
       "        }    #T_5256ca8c_9f51_11ea_8dfc_2016b9e6ea37row1_col3 {\n",
       "            background-color:  #e5d8d1;\n",
       "            color:  #000000;\n",
       "        }    #T_5256ca8c_9f51_11ea_8dfc_2016b9e6ea37row1_col4 {\n",
       "            background-color:  #7597f6;\n",
       "            color:  #000000;\n",
       "        }    #T_5256ca8c_9f51_11ea_8dfc_2016b9e6ea37row1_col5 {\n",
       "            background-color:  #ead5c9;\n",
       "            color:  #000000;\n",
       "        }    #T_5256ca8c_9f51_11ea_8dfc_2016b9e6ea37row1_col6 {\n",
       "            background-color:  #dedcdb;\n",
       "            color:  #000000;\n",
       "        }    #T_5256ca8c_9f51_11ea_8dfc_2016b9e6ea37row1_col7 {\n",
       "            background-color:  #5b7ae5;\n",
       "            color:  #000000;\n",
       "        }    #T_5256ca8c_9f51_11ea_8dfc_2016b9e6ea37row1_col8 {\n",
       "            background-color:  #5e7de7;\n",
       "            color:  #000000;\n",
       "        }    #T_5256ca8c_9f51_11ea_8dfc_2016b9e6ea37row1_col9 {\n",
       "            background-color:  #98b9ff;\n",
       "            color:  #000000;\n",
       "        }    #T_5256ca8c_9f51_11ea_8dfc_2016b9e6ea37row1_col10 {\n",
       "            background-color:  #ecd3c5;\n",
       "            color:  #000000;\n",
       "        }    #T_5256ca8c_9f51_11ea_8dfc_2016b9e6ea37row2_col0 {\n",
       "            background-color:  #8db0fe;\n",
       "            color:  #000000;\n",
       "        }    #T_5256ca8c_9f51_11ea_8dfc_2016b9e6ea37row2_col1 {\n",
       "            background-color:  #afcafc;\n",
       "            color:  #000000;\n",
       "        }    #T_5256ca8c_9f51_11ea_8dfc_2016b9e6ea37row2_col2 {\n",
       "            background-color:  #b40426;\n",
       "            color:  #f1f1f1;\n",
       "        }    #T_5256ca8c_9f51_11ea_8dfc_2016b9e6ea37row2_col3 {\n",
       "            background-color:  #da5a49;\n",
       "            color:  #000000;\n",
       "        }    #T_5256ca8c_9f51_11ea_8dfc_2016b9e6ea37row2_col4 {\n",
       "            background-color:  #93b5fe;\n",
       "            color:  #000000;\n",
       "        }    #T_5256ca8c_9f51_11ea_8dfc_2016b9e6ea37row2_col5 {\n",
       "            background-color:  #df634e;\n",
       "            color:  #000000;\n",
       "        }    #T_5256ca8c_9f51_11ea_8dfc_2016b9e6ea37row2_col6 {\n",
       "            background-color:  #d85646;\n",
       "            color:  #000000;\n",
       "        }    #T_5256ca8c_9f51_11ea_8dfc_2016b9e6ea37row2_col7 {\n",
       "            background-color:  #4b64d5;\n",
       "            color:  #f1f1f1;\n",
       "        }    #T_5256ca8c_9f51_11ea_8dfc_2016b9e6ea37row2_col8 {\n",
       "            background-color:  #4961d2;\n",
       "            color:  #f1f1f1;\n",
       "        }    #T_5256ca8c_9f51_11ea_8dfc_2016b9e6ea37row2_col9 {\n",
       "            background-color:  #445acc;\n",
       "            color:  #f1f1f1;\n",
       "        }    #T_5256ca8c_9f51_11ea_8dfc_2016b9e6ea37row2_col10 {\n",
       "            background-color:  #cad8ef;\n",
       "            color:  #000000;\n",
       "        }    #T_5256ca8c_9f51_11ea_8dfc_2016b9e6ea37row3_col0 {\n",
       "            background-color:  #8db0fe;\n",
       "            color:  #000000;\n",
       "        }    #T_5256ca8c_9f51_11ea_8dfc_2016b9e6ea37row3_col1 {\n",
       "            background-color:  #b7cff9;\n",
       "            color:  #000000;\n",
       "        }    #T_5256ca8c_9f51_11ea_8dfc_2016b9e6ea37row3_col2 {\n",
       "            background-color:  #da5a49;\n",
       "            color:  #000000;\n",
       "        }    #T_5256ca8c_9f51_11ea_8dfc_2016b9e6ea37row3_col3 {\n",
       "            background-color:  #b40426;\n",
       "            color:  #f1f1f1;\n",
       "        }    #T_5256ca8c_9f51_11ea_8dfc_2016b9e6ea37row3_col4 {\n",
       "            background-color:  #96b7ff;\n",
       "            color:  #000000;\n",
       "        }    #T_5256ca8c_9f51_11ea_8dfc_2016b9e6ea37row3_col5 {\n",
       "            background-color:  #e36b54;\n",
       "            color:  #000000;\n",
       "        }    #T_5256ca8c_9f51_11ea_8dfc_2016b9e6ea37row3_col6 {\n",
       "            background-color:  #d65244;\n",
       "            color:  #000000;\n",
       "        }    #T_5256ca8c_9f51_11ea_8dfc_2016b9e6ea37row3_col7 {\n",
       "            background-color:  #5977e3;\n",
       "            color:  #000000;\n",
       "        }    #T_5256ca8c_9f51_11ea_8dfc_2016b9e6ea37row3_col8 {\n",
       "            background-color:  #4b64d5;\n",
       "            color:  #f1f1f1;\n",
       "        }    #T_5256ca8c_9f51_11ea_8dfc_2016b9e6ea37row3_col9 {\n",
       "            background-color:  #445acc;\n",
       "            color:  #f1f1f1;\n",
       "        }    #T_5256ca8c_9f51_11ea_8dfc_2016b9e6ea37row3_col10 {\n",
       "            background-color:  #cbd8ee;\n",
       "            color:  #000000;\n",
       "        }    #T_5256ca8c_9f51_11ea_8dfc_2016b9e6ea37row4_col0 {\n",
       "            background-color:  #80a3fa;\n",
       "            color:  #000000;\n",
       "        }    #T_5256ca8c_9f51_11ea_8dfc_2016b9e6ea37row4_col1 {\n",
       "            background-color:  #8db0fe;\n",
       "            color:  #000000;\n",
       "        }    #T_5256ca8c_9f51_11ea_8dfc_2016b9e6ea37row4_col2 {\n",
       "            background-color:  #dddcdc;\n",
       "            color:  #000000;\n",
       "        }    #T_5256ca8c_9f51_11ea_8dfc_2016b9e6ea37row4_col3 {\n",
       "            background-color:  #dedcdb;\n",
       "            color:  #000000;\n",
       "        }    #T_5256ca8c_9f51_11ea_8dfc_2016b9e6ea37row4_col4 {\n",
       "            background-color:  #b40426;\n",
       "            color:  #f1f1f1;\n",
       "        }    #T_5256ca8c_9f51_11ea_8dfc_2016b9e6ea37row4_col5 {\n",
       "            background-color:  #dedcdb;\n",
       "            color:  #000000;\n",
       "        }    #T_5256ca8c_9f51_11ea_8dfc_2016b9e6ea37row4_col6 {\n",
       "            background-color:  #d3dbe7;\n",
       "            color:  #000000;\n",
       "        }    #T_5256ca8c_9f51_11ea_8dfc_2016b9e6ea37row4_col7 {\n",
       "            background-color:  #3b4cc0;\n",
       "            color:  #f1f1f1;\n",
       "        }    #T_5256ca8c_9f51_11ea_8dfc_2016b9e6ea37row4_col8 {\n",
       "            background-color:  #6a8bef;\n",
       "            color:  #000000;\n",
       "        }    #T_5256ca8c_9f51_11ea_8dfc_2016b9e6ea37row4_col9 {\n",
       "            background-color:  #adc9fd;\n",
       "            color:  #000000;\n",
       "        }    #T_5256ca8c_9f51_11ea_8dfc_2016b9e6ea37row4_col10 {\n",
       "            background-color:  #a5c3fe;\n",
       "            color:  #000000;\n",
       "        }    #T_5256ca8c_9f51_11ea_8dfc_2016b9e6ea37row5_col0 {\n",
       "            background-color:  #90b2fe;\n",
       "            color:  #000000;\n",
       "        }    #T_5256ca8c_9f51_11ea_8dfc_2016b9e6ea37row5_col1 {\n",
       "            background-color:  #b9d0f9;\n",
       "            color:  #000000;\n",
       "        }    #T_5256ca8c_9f51_11ea_8dfc_2016b9e6ea37row5_col2 {\n",
       "            background-color:  #e0654f;\n",
       "            color:  #000000;\n",
       "        }    #T_5256ca8c_9f51_11ea_8dfc_2016b9e6ea37row5_col3 {\n",
       "            background-color:  #e46e56;\n",
       "            color:  #000000;\n",
       "        }    #T_5256ca8c_9f51_11ea_8dfc_2016b9e6ea37row5_col4 {\n",
       "            background-color:  #8db0fe;\n",
       "            color:  #000000;\n",
       "        }    #T_5256ca8c_9f51_11ea_8dfc_2016b9e6ea37row5_col5 {\n",
       "            background-color:  #b40426;\n",
       "            color:  #f1f1f1;\n",
       "        }    #T_5256ca8c_9f51_11ea_8dfc_2016b9e6ea37row5_col6 {\n",
       "            background-color:  #dc5d4a;\n",
       "            color:  #000000;\n",
       "        }    #T_5256ca8c_9f51_11ea_8dfc_2016b9e6ea37row5_col7 {\n",
       "            background-color:  #5b7ae5;\n",
       "            color:  #000000;\n",
       "        }    #T_5256ca8c_9f51_11ea_8dfc_2016b9e6ea37row5_col8 {\n",
       "            background-color:  #4257c9;\n",
       "            color:  #f1f1f1;\n",
       "        }    #T_5256ca8c_9f51_11ea_8dfc_2016b9e6ea37row5_col9 {\n",
       "            background-color:  #3b4cc0;\n",
       "            color:  #f1f1f1;\n",
       "        }    #T_5256ca8c_9f51_11ea_8dfc_2016b9e6ea37row5_col10 {\n",
       "            background-color:  #c7d7f0;\n",
       "            color:  #000000;\n",
       "        }    #T_5256ca8c_9f51_11ea_8dfc_2016b9e6ea37row6_col0 {\n",
       "            background-color:  #93b5fe;\n",
       "            color:  #000000;\n",
       "        }    #T_5256ca8c_9f51_11ea_8dfc_2016b9e6ea37row6_col1 {\n",
       "            background-color:  #aec9fc;\n",
       "            color:  #000000;\n",
       "        }    #T_5256ca8c_9f51_11ea_8dfc_2016b9e6ea37row6_col2 {\n",
       "            background-color:  #d85646;\n",
       "            color:  #000000;\n",
       "        }    #T_5256ca8c_9f51_11ea_8dfc_2016b9e6ea37row6_col3 {\n",
       "            background-color:  #d55042;\n",
       "            color:  #000000;\n",
       "        }    #T_5256ca8c_9f51_11ea_8dfc_2016b9e6ea37row6_col4 {\n",
       "            background-color:  #82a6fb;\n",
       "            color:  #000000;\n",
       "        }    #T_5256ca8c_9f51_11ea_8dfc_2016b9e6ea37row6_col5 {\n",
       "            background-color:  #d95847;\n",
       "            color:  #000000;\n",
       "        }    #T_5256ca8c_9f51_11ea_8dfc_2016b9e6ea37row6_col6 {\n",
       "            background-color:  #b40426;\n",
       "            color:  #f1f1f1;\n",
       "        }    #T_5256ca8c_9f51_11ea_8dfc_2016b9e6ea37row6_col7 {\n",
       "            background-color:  #4f69d9;\n",
       "            color:  #000000;\n",
       "        }    #T_5256ca8c_9f51_11ea_8dfc_2016b9e6ea37row6_col8 {\n",
       "            background-color:  #3b4cc0;\n",
       "            color:  #f1f1f1;\n",
       "        }    #T_5256ca8c_9f51_11ea_8dfc_2016b9e6ea37row6_col9 {\n",
       "            background-color:  #4961d2;\n",
       "            color:  #f1f1f1;\n",
       "        }    #T_5256ca8c_9f51_11ea_8dfc_2016b9e6ea37row6_col10 {\n",
       "            background-color:  #c1d4f4;\n",
       "            color:  #000000;\n",
       "        }    #T_5256ca8c_9f51_11ea_8dfc_2016b9e6ea37row7_col0 {\n",
       "            background-color:  #4f69d9;\n",
       "            color:  #000000;\n",
       "        }    #T_5256ca8c_9f51_11ea_8dfc_2016b9e6ea37row7_col1 {\n",
       "            background-color:  #86a9fc;\n",
       "            color:  #000000;\n",
       "        }    #T_5256ca8c_9f51_11ea_8dfc_2016b9e6ea37row7_col2 {\n",
       "            background-color:  #bfd3f6;\n",
       "            color:  #000000;\n",
       "        }    #T_5256ca8c_9f51_11ea_8dfc_2016b9e6ea37row7_col3 {\n",
       "            background-color:  #c7d7f0;\n",
       "            color:  #000000;\n",
       "        }    #T_5256ca8c_9f51_11ea_8dfc_2016b9e6ea37row7_col4 {\n",
       "            background-color:  #4e68d8;\n",
       "            color:  #000000;\n",
       "        }    #T_5256ca8c_9f51_11ea_8dfc_2016b9e6ea37row7_col5 {\n",
       "            background-color:  #cedaeb;\n",
       "            color:  #000000;\n",
       "        }    #T_5256ca8c_9f51_11ea_8dfc_2016b9e6ea37row7_col6 {\n",
       "            background-color:  #bfd3f6;\n",
       "            color:  #000000;\n",
       "        }    #T_5256ca8c_9f51_11ea_8dfc_2016b9e6ea37row7_col7 {\n",
       "            background-color:  #b40426;\n",
       "            color:  #f1f1f1;\n",
       "        }    #T_5256ca8c_9f51_11ea_8dfc_2016b9e6ea37row7_col8 {\n",
       "            background-color:  #6282ea;\n",
       "            color:  #000000;\n",
       "        }    #T_5256ca8c_9f51_11ea_8dfc_2016b9e6ea37row7_col9 {\n",
       "            background-color:  #ccd9ed;\n",
       "            color:  #000000;\n",
       "        }    #T_5256ca8c_9f51_11ea_8dfc_2016b9e6ea37row7_col10 {\n",
       "            background-color:  #82a6fb;\n",
       "            color:  #000000;\n",
       "        }    #T_5256ca8c_9f51_11ea_8dfc_2016b9e6ea37row8_col0 {\n",
       "            background-color:  #7597f6;\n",
       "            color:  #000000;\n",
       "        }    #T_5256ca8c_9f51_11ea_8dfc_2016b9e6ea37row8_col1 {\n",
       "            background-color:  #82a6fb;\n",
       "            color:  #000000;\n",
       "        }    #T_5256ca8c_9f51_11ea_8dfc_2016b9e6ea37row8_col2 {\n",
       "            background-color:  #b9d0f9;\n",
       "            color:  #000000;\n",
       "        }    #T_5256ca8c_9f51_11ea_8dfc_2016b9e6ea37row8_col3 {\n",
       "            background-color:  #bbd1f8;\n",
       "            color:  #000000;\n",
       "        }    #T_5256ca8c_9f51_11ea_8dfc_2016b9e6ea37row8_col4 {\n",
       "            background-color:  #7699f6;\n",
       "            color:  #000000;\n",
       "        }    #T_5256ca8c_9f51_11ea_8dfc_2016b9e6ea37row8_col5 {\n",
       "            background-color:  #bbd1f8;\n",
       "            color:  #000000;\n",
       "        }    #T_5256ca8c_9f51_11ea_8dfc_2016b9e6ea37row8_col6 {\n",
       "            background-color:  #aac7fd;\n",
       "            color:  #000000;\n",
       "        }    #T_5256ca8c_9f51_11ea_8dfc_2016b9e6ea37row8_col7 {\n",
       "            background-color:  #5b7ae5;\n",
       "            color:  #000000;\n",
       "        }    #T_5256ca8c_9f51_11ea_8dfc_2016b9e6ea37row8_col8 {\n",
       "            background-color:  #b40426;\n",
       "            color:  #f1f1f1;\n",
       "        }    #T_5256ca8c_9f51_11ea_8dfc_2016b9e6ea37row8_col9 {\n",
       "            background-color:  #cad8ef;\n",
       "            color:  #000000;\n",
       "        }    #T_5256ca8c_9f51_11ea_8dfc_2016b9e6ea37row8_col10 {\n",
       "            background-color:  #88abfd;\n",
       "            color:  #000000;\n",
       "        }    #T_5256ca8c_9f51_11ea_8dfc_2016b9e6ea37row9_col0 {\n",
       "            background-color:  #3b4cc0;\n",
       "            color:  #f1f1f1;\n",
       "        }    #T_5256ca8c_9f51_11ea_8dfc_2016b9e6ea37row9_col1 {\n",
       "            background-color:  #3b4cc0;\n",
       "            color:  #f1f1f1;\n",
       "        }    #T_5256ca8c_9f51_11ea_8dfc_2016b9e6ea37row9_col2 {\n",
       "            background-color:  #3b4cc0;\n",
       "            color:  #f1f1f1;\n",
       "        }    #T_5256ca8c_9f51_11ea_8dfc_2016b9e6ea37row9_col3 {\n",
       "            background-color:  #3b4cc0;\n",
       "            color:  #f1f1f1;\n",
       "        }    #T_5256ca8c_9f51_11ea_8dfc_2016b9e6ea37row9_col4 {\n",
       "            background-color:  #3b4cc0;\n",
       "            color:  #f1f1f1;\n",
       "        }    #T_5256ca8c_9f51_11ea_8dfc_2016b9e6ea37row9_col5 {\n",
       "            background-color:  #3b4cc0;\n",
       "            color:  #f1f1f1;\n",
       "        }    #T_5256ca8c_9f51_11ea_8dfc_2016b9e6ea37row9_col6 {\n",
       "            background-color:  #3b4cc0;\n",
       "            color:  #f1f1f1;\n",
       "        }    #T_5256ca8c_9f51_11ea_8dfc_2016b9e6ea37row9_col7 {\n",
       "            background-color:  #5673e0;\n",
       "            color:  #000000;\n",
       "        }    #T_5256ca8c_9f51_11ea_8dfc_2016b9e6ea37row9_col8 {\n",
       "            background-color:  #5977e3;\n",
       "            color:  #000000;\n",
       "        }    #T_5256ca8c_9f51_11ea_8dfc_2016b9e6ea37row9_col9 {\n",
       "            background-color:  #b40426;\n",
       "            color:  #f1f1f1;\n",
       "        }    #T_5256ca8c_9f51_11ea_8dfc_2016b9e6ea37row9_col10 {\n",
       "            background-color:  #3b4cc0;\n",
       "            color:  #f1f1f1;\n",
       "        }    #T_5256ca8c_9f51_11ea_8dfc_2016b9e6ea37row10_col0 {\n",
       "            background-color:  #85a8fc;\n",
       "            color:  #000000;\n",
       "        }    #T_5256ca8c_9f51_11ea_8dfc_2016b9e6ea37row10_col1 {\n",
       "            background-color:  #e9d5cb;\n",
       "            color:  #000000;\n",
       "        }    #T_5256ca8c_9f51_11ea_8dfc_2016b9e6ea37row10_col2 {\n",
       "            background-color:  #ebd3c6;\n",
       "            color:  #000000;\n",
       "        }    #T_5256ca8c_9f51_11ea_8dfc_2016b9e6ea37row10_col3 {\n",
       "            background-color:  #ecd3c5;\n",
       "            color:  #000000;\n",
       "        }    #T_5256ca8c_9f51_11ea_8dfc_2016b9e6ea37row10_col4 {\n",
       "            background-color:  #85a8fc;\n",
       "            color:  #000000;\n",
       "        }    #T_5256ca8c_9f51_11ea_8dfc_2016b9e6ea37row10_col5 {\n",
       "            background-color:  #edd1c2;\n",
       "            color:  #000000;\n",
       "        }    #T_5256ca8c_9f51_11ea_8dfc_2016b9e6ea37row10_col6 {\n",
       "            background-color:  #e5d8d1;\n",
       "            color:  #000000;\n",
       "        }    #T_5256ca8c_9f51_11ea_8dfc_2016b9e6ea37row10_col7 {\n",
       "            background-color:  #4c66d6;\n",
       "            color:  #000000;\n",
       "        }    #T_5256ca8c_9f51_11ea_8dfc_2016b9e6ea37row10_col8 {\n",
       "            background-color:  #5977e3;\n",
       "            color:  #000000;\n",
       "        }    #T_5256ca8c_9f51_11ea_8dfc_2016b9e6ea37row10_col9 {\n",
       "            background-color:  #8fb1fe;\n",
       "            color:  #000000;\n",
       "        }    #T_5256ca8c_9f51_11ea_8dfc_2016b9e6ea37row10_col10 {\n",
       "            background-color:  #b40426;\n",
       "            color:  #f1f1f1;\n",
       "        }</style><table id=\"T_5256ca8c_9f51_11ea_8dfc_2016b9e6ea37\" ><thead>    <tr>        <th class=\"blank level0\" ></th>        <th class=\"col_heading level0 col0\" >radius_0</th>        <th class=\"col_heading level0 col1\" >texture_0</th>        <th class=\"col_heading level0 col2\" >perimeter_0</th>        <th class=\"col_heading level0 col3\" >radius_1</th>        <th class=\"col_heading level0 col4\" >texture_1</th>        <th class=\"col_heading level0 col5\" >perimeter_1</th>        <th class=\"col_heading level0 col6\" >radius_2</th>        <th class=\"col_heading level0 col7\" >perimeter_2</th>        <th class=\"col_heading level0 col8\" >age</th>        <th class=\"col_heading level0 col9\" >cancer_type</th>        <th class=\"col_heading level0 col10\" >texture_2</th>    </tr></thead><tbody>\n",
       "                <tr>\n",
       "                        <th id=\"T_5256ca8c_9f51_11ea_8dfc_2016b9e6ea37level0_row0\" class=\"row_heading level0 row0\" >radius_0</th>\n",
       "                        <td id=\"T_5256ca8c_9f51_11ea_8dfc_2016b9e6ea37row0_col0\" class=\"data row0 col0\" >1</td>\n",
       "                        <td id=\"T_5256ca8c_9f51_11ea_8dfc_2016b9e6ea37row0_col1\" class=\"data row0 col1\" >0.0902597</td>\n",
       "                        <td id=\"T_5256ca8c_9f51_11ea_8dfc_2016b9e6ea37row0_col2\" class=\"data row0 col2\" >0.127806</td>\n",
       "                        <td id=\"T_5256ca8c_9f51_11ea_8dfc_2016b9e6ea37row0_col3\" class=\"data row0 col3\" >0.130171</td>\n",
       "                        <td id=\"T_5256ca8c_9f51_11ea_8dfc_2016b9e6ea37row0_col4\" class=\"data row0 col4\" >0.0813388</td>\n",
       "                        <td id=\"T_5256ca8c_9f51_11ea_8dfc_2016b9e6ea37row0_col5\" class=\"data row0 col5\" >0.136497</td>\n",
       "                        <td id=\"T_5256ca8c_9f51_11ea_8dfc_2016b9e6ea37row0_col6\" class=\"data row0 col6\" >0.147473</td>\n",
       "                        <td id=\"T_5256ca8c_9f51_11ea_8dfc_2016b9e6ea37row0_col7\" class=\"data row0 col7\" >-0.0880023</td>\n",
       "                        <td id=\"T_5256ca8c_9f51_11ea_8dfc_2016b9e6ea37row0_col8\" class=\"data row0 col8\" >0.0477842</td>\n",
       "                        <td id=\"T_5256ca8c_9f51_11ea_8dfc_2016b9e6ea37row0_col9\" class=\"data row0 col9\" >-0.165618</td>\n",
       "                        <td id=\"T_5256ca8c_9f51_11ea_8dfc_2016b9e6ea37row0_col10\" class=\"data row0 col10\" >0.0992874</td>\n",
       "            </tr>\n",
       "            <tr>\n",
       "                        <th id=\"T_5256ca8c_9f51_11ea_8dfc_2016b9e6ea37level0_row1\" class=\"row_heading level0 row1\" >texture_0</th>\n",
       "                        <td id=\"T_5256ca8c_9f51_11ea_8dfc_2016b9e6ea37row1_col0\" class=\"data row1 col0\" >0.0902597</td>\n",
       "                        <td id=\"T_5256ca8c_9f51_11ea_8dfc_2016b9e6ea37row1_col1\" class=\"data row1 col1\" >1</td>\n",
       "                        <td id=\"T_5256ca8c_9f51_11ea_8dfc_2016b9e6ea37row1_col2\" class=\"data row1 col2\" >0.180504</td>\n",
       "                        <td id=\"T_5256ca8c_9f51_11ea_8dfc_2016b9e6ea37row1_col3\" class=\"data row1 col3\" >0.2092</td>\n",
       "                        <td id=\"T_5256ca8c_9f51_11ea_8dfc_2016b9e6ea37row1_col4\" class=\"data row1 col4\" >0.0545361</td>\n",
       "                        <td id=\"T_5256ca8c_9f51_11ea_8dfc_2016b9e6ea37row1_col5\" class=\"data row1 col5\" >0.21403</td>\n",
       "                        <td id=\"T_5256ca8c_9f51_11ea_8dfc_2016b9e6ea37row1_col6\" class=\"data row1 col6\" >0.171654</td>\n",
       "                        <td id=\"T_5256ca8c_9f51_11ea_8dfc_2016b9e6ea37row1_col7\" class=\"data row1 col7\" >0.0295769</td>\n",
       "                        <td id=\"T_5256ca8c_9f51_11ea_8dfc_2016b9e6ea37row1_col8\" class=\"data row1 col8\" >0.015494</td>\n",
       "                        <td id=\"T_5256ca8c_9f51_11ea_8dfc_2016b9e6ea37row1_col9\" class=\"data row1 col9\" >-0.262385</td>\n",
       "                        <td id=\"T_5256ca8c_9f51_11ea_8dfc_2016b9e6ea37row1_col10\" class=\"data row1 col10\" >0.42865</td>\n",
       "            </tr>\n",
       "            <tr>\n",
       "                        <th id=\"T_5256ca8c_9f51_11ea_8dfc_2016b9e6ea37level0_row2\" class=\"row_heading level0 row2\" >perimeter_0</th>\n",
       "                        <td id=\"T_5256ca8c_9f51_11ea_8dfc_2016b9e6ea37row2_col0\" class=\"data row2 col0\" >0.127806</td>\n",
       "                        <td id=\"T_5256ca8c_9f51_11ea_8dfc_2016b9e6ea37row2_col1\" class=\"data row2 col1\" >0.180504</td>\n",
       "                        <td id=\"T_5256ca8c_9f51_11ea_8dfc_2016b9e6ea37row2_col2\" class=\"data row2 col2\" >1</td>\n",
       "                        <td id=\"T_5256ca8c_9f51_11ea_8dfc_2016b9e6ea37row2_col3\" class=\"data row2 col3\" >0.804854</td>\n",
       "                        <td id=\"T_5256ca8c_9f51_11ea_8dfc_2016b9e6ea37row2_col4\" class=\"data row2 col4\" >0.151266</td>\n",
       "                        <td id=\"T_5256ca8c_9f51_11ea_8dfc_2016b9e6ea37row2_col5\" class=\"data row2 col5\" >0.771738</td>\n",
       "                        <td id=\"T_5256ca8c_9f51_11ea_8dfc_2016b9e6ea37row2_col6\" class=\"data row2 col6\" >0.820268</td>\n",
       "                        <td id=\"T_5256ca8c_9f51_11ea_8dfc_2016b9e6ea37row2_col7\" class=\"data row2 col7\" >-0.0268815</td>\n",
       "                        <td id=\"T_5256ca8c_9f51_11ea_8dfc_2016b9e6ea37row2_col8\" class=\"data row2 col8\" >-0.0599031</td>\n",
       "                        <td id=\"T_5256ca8c_9f51_11ea_8dfc_2016b9e6ea37row2_col9\" class=\"data row2 col9\" >-0.702946</td>\n",
       "                        <td id=\"T_5256ca8c_9f51_11ea_8dfc_2016b9e6ea37row2_col10\" class=\"data row2 col10\" >0.254585</td>\n",
       "            </tr>\n",
       "            <tr>\n",
       "                        <th id=\"T_5256ca8c_9f51_11ea_8dfc_2016b9e6ea37level0_row3\" class=\"row_heading level0 row3\" >radius_1</th>\n",
       "                        <td id=\"T_5256ca8c_9f51_11ea_8dfc_2016b9e6ea37row3_col0\" class=\"data row3 col0\" >0.130171</td>\n",
       "                        <td id=\"T_5256ca8c_9f51_11ea_8dfc_2016b9e6ea37row3_col1\" class=\"data row3 col1\" >0.2092</td>\n",
       "                        <td id=\"T_5256ca8c_9f51_11ea_8dfc_2016b9e6ea37row3_col2\" class=\"data row3 col2\" >0.804854</td>\n",
       "                        <td id=\"T_5256ca8c_9f51_11ea_8dfc_2016b9e6ea37row3_col3\" class=\"data row3 col3\" >1</td>\n",
       "                        <td id=\"T_5256ca8c_9f51_11ea_8dfc_2016b9e6ea37row3_col4\" class=\"data row3 col4\" >0.161376</td>\n",
       "                        <td id=\"T_5256ca8c_9f51_11ea_8dfc_2016b9e6ea37row3_col5\" class=\"data row3 col5\" >0.739114</td>\n",
       "                        <td id=\"T_5256ca8c_9f51_11ea_8dfc_2016b9e6ea37row3_col6\" class=\"data row3 col6\" >0.835507</td>\n",
       "                        <td id=\"T_5256ca8c_9f51_11ea_8dfc_2016b9e6ea37row3_col7\" class=\"data row3 col7\" >0.0217199</td>\n",
       "                        <td id=\"T_5256ca8c_9f51_11ea_8dfc_2016b9e6ea37row3_col8\" class=\"data row3 col8\" >-0.0491869</td>\n",
       "                        <td id=\"T_5256ca8c_9f51_11ea_8dfc_2016b9e6ea37row3_col9\" class=\"data row3 col9\" >-0.700973</td>\n",
       "                        <td id=\"T_5256ca8c_9f51_11ea_8dfc_2016b9e6ea37row3_col10\" class=\"data row3 col10\" >0.261577</td>\n",
       "            </tr>\n",
       "            <tr>\n",
       "                        <th id=\"T_5256ca8c_9f51_11ea_8dfc_2016b9e6ea37level0_row4\" class=\"row_heading level0 row4\" >texture_1</th>\n",
       "                        <td id=\"T_5256ca8c_9f51_11ea_8dfc_2016b9e6ea37row4_col0\" class=\"data row4 col0\" >0.0813388</td>\n",
       "                        <td id=\"T_5256ca8c_9f51_11ea_8dfc_2016b9e6ea37row4_col1\" class=\"data row4 col1\" >0.0545361</td>\n",
       "                        <td id=\"T_5256ca8c_9f51_11ea_8dfc_2016b9e6ea37row4_col2\" class=\"data row4 col2\" >0.151266</td>\n",
       "                        <td id=\"T_5256ca8c_9f51_11ea_8dfc_2016b9e6ea37row4_col3\" class=\"data row4 col3\" >0.161376</td>\n",
       "                        <td id=\"T_5256ca8c_9f51_11ea_8dfc_2016b9e6ea37row4_col4\" class=\"data row4 col4\" >1</td>\n",
       "                        <td id=\"T_5256ca8c_9f51_11ea_8dfc_2016b9e6ea37row4_col5\" class=\"data row4 col5\" >0.132446</td>\n",
       "                        <td id=\"T_5256ca8c_9f51_11ea_8dfc_2016b9e6ea37row4_col6\" class=\"data row4 col6\" >0.0981138</td>\n",
       "                        <td id=\"T_5256ca8c_9f51_11ea_8dfc_2016b9e6ea37row4_col7\" class=\"data row4 col7\" >-0.0841248</td>\n",
       "                        <td id=\"T_5256ca8c_9f51_11ea_8dfc_2016b9e6ea37row4_col8\" class=\"data row4 col8\" >0.0550635</td>\n",
       "                        <td id=\"T_5256ca8c_9f51_11ea_8dfc_2016b9e6ea37row4_col9\" class=\"data row4 col9\" >-0.158078</td>\n",
       "                        <td id=\"T_5256ca8c_9f51_11ea_8dfc_2016b9e6ea37row4_col10\" class=\"data row4 col10\" >0.10604</td>\n",
       "            </tr>\n",
       "            <tr>\n",
       "                        <th id=\"T_5256ca8c_9f51_11ea_8dfc_2016b9e6ea37level0_row5\" class=\"row_heading level0 row5\" >perimeter_1</th>\n",
       "                        <td id=\"T_5256ca8c_9f51_11ea_8dfc_2016b9e6ea37row5_col0\" class=\"data row5 col0\" >0.136497</td>\n",
       "                        <td id=\"T_5256ca8c_9f51_11ea_8dfc_2016b9e6ea37row5_col1\" class=\"data row5 col1\" >0.21403</td>\n",
       "                        <td id=\"T_5256ca8c_9f51_11ea_8dfc_2016b9e6ea37row5_col2\" class=\"data row5 col2\" >0.771738</td>\n",
       "                        <td id=\"T_5256ca8c_9f51_11ea_8dfc_2016b9e6ea37row5_col3\" class=\"data row5 col3\" >0.739114</td>\n",
       "                        <td id=\"T_5256ca8c_9f51_11ea_8dfc_2016b9e6ea37row5_col4\" class=\"data row5 col4\" >0.132446</td>\n",
       "                        <td id=\"T_5256ca8c_9f51_11ea_8dfc_2016b9e6ea37row5_col5\" class=\"data row5 col5\" >1</td>\n",
       "                        <td id=\"T_5256ca8c_9f51_11ea_8dfc_2016b9e6ea37row5_col6\" class=\"data row5 col6\" >0.800752</td>\n",
       "                        <td id=\"T_5256ca8c_9f51_11ea_8dfc_2016b9e6ea37row5_col7\" class=\"data row5 col7\" >0.0302554</td>\n",
       "                        <td id=\"T_5256ca8c_9f51_11ea_8dfc_2016b9e6ea37row5_col8\" class=\"data row5 col8\" >-0.0852202</td>\n",
       "                        <td id=\"T_5256ca8c_9f51_11ea_8dfc_2016b9e6ea37row5_col9\" class=\"data row5 col9\" >-0.759416</td>\n",
       "                        <td id=\"T_5256ca8c_9f51_11ea_8dfc_2016b9e6ea37row5_col10\" class=\"data row5 col10\" >0.246188</td>\n",
       "            </tr>\n",
       "            <tr>\n",
       "                        <th id=\"T_5256ca8c_9f51_11ea_8dfc_2016b9e6ea37level0_row6\" class=\"row_heading level0 row6\" >radius_2</th>\n",
       "                        <td id=\"T_5256ca8c_9f51_11ea_8dfc_2016b9e6ea37row6_col0\" class=\"data row6 col0\" >0.147473</td>\n",
       "                        <td id=\"T_5256ca8c_9f51_11ea_8dfc_2016b9e6ea37row6_col1\" class=\"data row6 col1\" >0.171654</td>\n",
       "                        <td id=\"T_5256ca8c_9f51_11ea_8dfc_2016b9e6ea37row6_col2\" class=\"data row6 col2\" >0.820268</td>\n",
       "                        <td id=\"T_5256ca8c_9f51_11ea_8dfc_2016b9e6ea37row6_col3\" class=\"data row6 col3\" >0.835507</td>\n",
       "                        <td id=\"T_5256ca8c_9f51_11ea_8dfc_2016b9e6ea37row6_col4\" class=\"data row6 col4\" >0.0981138</td>\n",
       "                        <td id=\"T_5256ca8c_9f51_11ea_8dfc_2016b9e6ea37row6_col5\" class=\"data row6 col5\" >0.800752</td>\n",
       "                        <td id=\"T_5256ca8c_9f51_11ea_8dfc_2016b9e6ea37row6_col6\" class=\"data row6 col6\" >1</td>\n",
       "                        <td id=\"T_5256ca8c_9f51_11ea_8dfc_2016b9e6ea37row6_col7\" class=\"data row6 col7\" >-0.0136575</td>\n",
       "                        <td id=\"T_5256ca8c_9f51_11ea_8dfc_2016b9e6ea37row6_col8\" class=\"data row6 col8\" >-0.112529</td>\n",
       "                        <td id=\"T_5256ca8c_9f51_11ea_8dfc_2016b9e6ea37row6_col9\" class=\"data row6 col9\" >-0.675149</td>\n",
       "                        <td id=\"T_5256ca8c_9f51_11ea_8dfc_2016b9e6ea37row6_col10\" class=\"data row6 col10\" >0.219073</td>\n",
       "            </tr>\n",
       "            <tr>\n",
       "                        <th id=\"T_5256ca8c_9f51_11ea_8dfc_2016b9e6ea37level0_row7\" class=\"row_heading level0 row7\" >perimeter_2</th>\n",
       "                        <td id=\"T_5256ca8c_9f51_11ea_8dfc_2016b9e6ea37row7_col0\" class=\"data row7 col0\" >-0.0880023</td>\n",
       "                        <td id=\"T_5256ca8c_9f51_11ea_8dfc_2016b9e6ea37row7_col1\" class=\"data row7 col1\" >0.0295769</td>\n",
       "                        <td id=\"T_5256ca8c_9f51_11ea_8dfc_2016b9e6ea37row7_col2\" class=\"data row7 col2\" >-0.0268815</td>\n",
       "                        <td id=\"T_5256ca8c_9f51_11ea_8dfc_2016b9e6ea37row7_col3\" class=\"data row7 col3\" >0.0217199</td>\n",
       "                        <td id=\"T_5256ca8c_9f51_11ea_8dfc_2016b9e6ea37row7_col4\" class=\"data row7 col4\" >-0.0841248</td>\n",
       "                        <td id=\"T_5256ca8c_9f51_11ea_8dfc_2016b9e6ea37row7_col5\" class=\"data row7 col5\" >0.0302554</td>\n",
       "                        <td id=\"T_5256ca8c_9f51_11ea_8dfc_2016b9e6ea37row7_col6\" class=\"data row7 col6\" >-0.0136575</td>\n",
       "                        <td id=\"T_5256ca8c_9f51_11ea_8dfc_2016b9e6ea37row7_col7\" class=\"data row7 col7\" >1</td>\n",
       "                        <td id=\"T_5256ca8c_9f51_11ea_8dfc_2016b9e6ea37row7_col8\" class=\"data row7 col8\" >0.0300572</td>\n",
       "                        <td id=\"T_5256ca8c_9f51_11ea_8dfc_2016b9e6ea37row7_col9\" class=\"data row7 col9\" >0.0130552</td>\n",
       "                        <td id=\"T_5256ca8c_9f51_11ea_8dfc_2016b9e6ea37row7_col10\" class=\"data row7 col10\" >-0.0224037</td>\n",
       "            </tr>\n",
       "            <tr>\n",
       "                        <th id=\"T_5256ca8c_9f51_11ea_8dfc_2016b9e6ea37level0_row8\" class=\"row_heading level0 row8\" >age</th>\n",
       "                        <td id=\"T_5256ca8c_9f51_11ea_8dfc_2016b9e6ea37row8_col0\" class=\"data row8 col0\" >0.0477842</td>\n",
       "                        <td id=\"T_5256ca8c_9f51_11ea_8dfc_2016b9e6ea37row8_col1\" class=\"data row8 col1\" >0.015494</td>\n",
       "                        <td id=\"T_5256ca8c_9f51_11ea_8dfc_2016b9e6ea37row8_col2\" class=\"data row8 col2\" >-0.0599031</td>\n",
       "                        <td id=\"T_5256ca8c_9f51_11ea_8dfc_2016b9e6ea37row8_col3\" class=\"data row8 col3\" >-0.0491869</td>\n",
       "                        <td id=\"T_5256ca8c_9f51_11ea_8dfc_2016b9e6ea37row8_col4\" class=\"data row8 col4\" >0.0550635</td>\n",
       "                        <td id=\"T_5256ca8c_9f51_11ea_8dfc_2016b9e6ea37row8_col5\" class=\"data row8 col5\" >-0.0852202</td>\n",
       "                        <td id=\"T_5256ca8c_9f51_11ea_8dfc_2016b9e6ea37row8_col6\" class=\"data row8 col6\" >-0.112529</td>\n",
       "                        <td id=\"T_5256ca8c_9f51_11ea_8dfc_2016b9e6ea37row8_col7\" class=\"data row8 col7\" >0.0300572</td>\n",
       "                        <td id=\"T_5256ca8c_9f51_11ea_8dfc_2016b9e6ea37row8_col8\" class=\"data row8 col8\" >1</td>\n",
       "                        <td id=\"T_5256ca8c_9f51_11ea_8dfc_2016b9e6ea37row8_col9\" class=\"data row8 col9\" >-0.00163639</td>\n",
       "                        <td id=\"T_5256ca8c_9f51_11ea_8dfc_2016b9e6ea37row8_col10\" class=\"data row8 col10\" >-0.000975113</td>\n",
       "            </tr>\n",
       "            <tr>\n",
       "                        <th id=\"T_5256ca8c_9f51_11ea_8dfc_2016b9e6ea37level0_row9\" class=\"row_heading level0 row9\" >cancer_type</th>\n",
       "                        <td id=\"T_5256ca8c_9f51_11ea_8dfc_2016b9e6ea37row9_col0\" class=\"data row9 col0\" >-0.165618</td>\n",
       "                        <td id=\"T_5256ca8c_9f51_11ea_8dfc_2016b9e6ea37row9_col1\" class=\"data row9 col1\" >-0.262385</td>\n",
       "                        <td id=\"T_5256ca8c_9f51_11ea_8dfc_2016b9e6ea37row9_col2\" class=\"data row9 col2\" >-0.702946</td>\n",
       "                        <td id=\"T_5256ca8c_9f51_11ea_8dfc_2016b9e6ea37row9_col3\" class=\"data row9 col3\" >-0.700973</td>\n",
       "                        <td id=\"T_5256ca8c_9f51_11ea_8dfc_2016b9e6ea37row9_col4\" class=\"data row9 col4\" >-0.158078</td>\n",
       "                        <td id=\"T_5256ca8c_9f51_11ea_8dfc_2016b9e6ea37row9_col5\" class=\"data row9 col5\" >-0.759416</td>\n",
       "                        <td id=\"T_5256ca8c_9f51_11ea_8dfc_2016b9e6ea37row9_col6\" class=\"data row9 col6\" >-0.675149</td>\n",
       "                        <td id=\"T_5256ca8c_9f51_11ea_8dfc_2016b9e6ea37row9_col7\" class=\"data row9 col7\" >0.0130552</td>\n",
       "                        <td id=\"T_5256ca8c_9f51_11ea_8dfc_2016b9e6ea37row9_col8\" class=\"data row9 col8\" >-0.00163639</td>\n",
       "                        <td id=\"T_5256ca8c_9f51_11ea_8dfc_2016b9e6ea37row9_col9\" class=\"data row9 col9\" >1</td>\n",
       "                        <td id=\"T_5256ca8c_9f51_11ea_8dfc_2016b9e6ea37row9_col10\" class=\"data row9 col10\" >-0.310775</td>\n",
       "            </tr>\n",
       "            <tr>\n",
       "                        <th id=\"T_5256ca8c_9f51_11ea_8dfc_2016b9e6ea37level0_row10\" class=\"row_heading level0 row10\" >texture_2</th>\n",
       "                        <td id=\"T_5256ca8c_9f51_11ea_8dfc_2016b9e6ea37row10_col0\" class=\"data row10 col0\" >0.0992874</td>\n",
       "                        <td id=\"T_5256ca8c_9f51_11ea_8dfc_2016b9e6ea37row10_col1\" class=\"data row10 col1\" >0.42865</td>\n",
       "                        <td id=\"T_5256ca8c_9f51_11ea_8dfc_2016b9e6ea37row10_col2\" class=\"data row10 col2\" >0.254585</td>\n",
       "                        <td id=\"T_5256ca8c_9f51_11ea_8dfc_2016b9e6ea37row10_col3\" class=\"data row10 col3\" >0.261577</td>\n",
       "                        <td id=\"T_5256ca8c_9f51_11ea_8dfc_2016b9e6ea37row10_col4\" class=\"data row10 col4\" >0.10604</td>\n",
       "                        <td id=\"T_5256ca8c_9f51_11ea_8dfc_2016b9e6ea37row10_col5\" class=\"data row10 col5\" >0.246188</td>\n",
       "                        <td id=\"T_5256ca8c_9f51_11ea_8dfc_2016b9e6ea37row10_col6\" class=\"data row10 col6\" >0.219073</td>\n",
       "                        <td id=\"T_5256ca8c_9f51_11ea_8dfc_2016b9e6ea37row10_col7\" class=\"data row10 col7\" >-0.0224037</td>\n",
       "                        <td id=\"T_5256ca8c_9f51_11ea_8dfc_2016b9e6ea37row10_col8\" class=\"data row10 col8\" >-0.000975113</td>\n",
       "                        <td id=\"T_5256ca8c_9f51_11ea_8dfc_2016b9e6ea37row10_col9\" class=\"data row10 col9\" >-0.310775</td>\n",
       "                        <td id=\"T_5256ca8c_9f51_11ea_8dfc_2016b9e6ea37row10_col10\" class=\"data row10 col10\" >1</td>\n",
       "            </tr>\n",
       "    </tbody></table>"
      ],
      "text/plain": [
       "<pandas.io.formats.style.Styler at 0x222505455c0>"
      ]
     },
     "execution_count": 11,
     "metadata": {},
     "output_type": "execute_result"
    }
   ],
   "source": [
    "train_data_corr = cancer_train_data.corr()\n",
    "train_data_corr.style.background_gradient(cmap='coolwarm')"
   ]
  },
  {
   "cell_type": "code",
   "execution_count": 12,
   "metadata": {},
   "outputs": [
    {
     "data": {
      "text/plain": [
       "Text(0.5, 1.0, 'Age')"
      ]
     },
     "execution_count": 12,
     "metadata": {},
     "output_type": "execute_result"
    },
    {
     "data": {
      "image/png": "[encoded data removed]",
      "text/plain": [
       "<Figure size 576x432 with 1 Axes>"
      ]
     },
     "metadata": {
      "needs_background": "light"
     },
     "output_type": "display_data"
    }
   ],
   "source": [
    "plt.rcParams[\"figure.figsize\"] = (8,6)\n",
    "ax = sns.distplot(cancer_train_data[cancer_train_data['cancer_type']==1].age, bins=40, label = 1, kde =False)\n",
    "ax = sns.distplot(cancer_train_data[cancer_train_data['cancer_type']==0].age, bins=40, label = 0, kde =False)\n",
    "ax.legend()\n",
    "ax.set_title('Age')"
   ]
  },
  {
   "cell_type": "code",
   "execution_count": 13,
   "metadata": {},
   "outputs": [],
   "source": [
    "data = [cancer_train_data, cancer_test_data]\n",
    "for dataset in data:\n",
    "    dataset['age'] = dataset['age'].astype(int)\n",
    "    dataset.loc[(dataset['age'] > 17) & (dataset['age'] <= 30), 'age'] = 1\n",
    "    dataset.loc[(dataset['age'] > 30) & (dataset['age'] <= 40), 'age'] = 2\n",
    "    dataset.loc[(dataset['age'] > 40) & (dataset['age'] <= 50), 'age'] = 3\n",
    "    dataset.loc[(dataset['age'] > 50) & (dataset['age'] <= 60), 'age'] = 4\n",
    "    dataset.loc[ dataset['age'] > 60, 'age'] = 5"
   ]
  },
  {
   "cell_type": "code",
   "execution_count": 14,
   "metadata": {},
   "outputs": [
    {
     "data": {
      "text/plain": [
       "age  cancer_type\n",
       "1    0              41\n",
       "     1              75\n",
       "2    0              40\n",
       "     1              58\n",
       "3    0              29\n",
       "     1              56\n",
       "4    0              22\n",
       "     1              42\n",
       "5    0              16\n",
       "     1              19\n",
       "dtype: int64"
      ]
     },
     "execution_count": 14,
     "metadata": {},
     "output_type": "execute_result"
    }
   ],
   "source": [
    "cancer_train_data.groupby(['age','cancer_type']).size()"
   ]
  },
  {
   "cell_type": "code",
   "execution_count": 15,
   "metadata": {},
   "outputs": [
    {
     "data": {
      "image/png": "[encoded data removed]",
      "text/plain": [
       "<Figure size 1440x432 with 1 Axes>"
      ]
     },
     "metadata": {
      "needs_background": "light"
     },
     "output_type": "display_data"
    }
   ],
   "source": [
    "pd.crosstab(cancer_train_data['age'],cancer_train_data['cancer_type']).plot(kind=\"bar\",figsize=(20,6))\n",
    "plt.title('Cancer Type for Ages')\n",
    "plt.xlabel('Age')\n",
    "plt.ylabel('Frequency')\n",
    "plt.show()"
   ]
  },
  {
   "cell_type": "code",
   "execution_count": 36,
   "metadata": {},
   "outputs": [],
   "source": [
    "x = cancer_train_data[cancer_train_data.columns.difference(['cancer_type','treatment_date','diagnose_date','age'])]\n",
    "X = cancer_train_data[cancer_train_data.columns.difference(['cancer_type','treatment_date','diagnose_date','age'])].values\n",
    "#X = cancer_train_data[['perimeter_0','perimeter_1','texture_0','radius_2']].values\n",
    "y = cancer_train_data.loc[:,'cancer_type']\n",
    "Y = cancer_train_data.loc[:,'cancer_type'].values"
   ]
  },
  {
   "cell_type": "code",
   "execution_count": 245,
   "metadata": {},
   "outputs": [
    {
     "name": "stdout",
     "output_type": "stream",
     "text": [
      "         Specs       Score\n",
      "1  perimeter_1  539.534282\n",
      "0  perimeter_0  386.815493\n",
      "4     radius_1  382.552565\n",
      "5     radius_2  331.708126\n",
      "8    texture_2   42.334830\n",
      "6    texture_0   29.278691\n",
      "3     radius_0   11.168369\n",
      "7    texture_1   10.149144\n",
      "2  perimeter_2    0.067505\n"
     ]
    }
   ],
   "source": [
    "from sklearn.feature_selection import SelectKBest\n",
    "from sklearn.feature_selection import f_classif\n",
    "\n",
    "bestfeatures = SelectKBest(score_func=f_classif, k=9)\n",
    "fit = bestfeatures.fit(x,y)\n",
    "dfscores = pd.DataFrame(fit.scores_)\n",
    "dfcolumns = pd.DataFrame(x.columns)\n",
    "#concat two dataframes for better visualization \n",
    "featureScores = pd.concat([dfcolumns,dfscores],axis=1)\n",
    "featureScores.columns = ['Specs','Score']  #naming the dataframe columns\n",
    "print(featureScores.nlargest(9,'Score'))  #print 10 best features"
   ]
  },
  {
   "cell_type": "code",
   "execution_count": 37,
   "metadata": {},
   "outputs": [],
   "source": [
    "from sklearn.model_selection import train_test_split\n",
    "X_train, X_test, y_train, y_test = train_test_split(X, Y, test_size = 0.25, random_state = 0)"
   ]
  },
  {
   "cell_type": "code",
   "execution_count": 38,
   "metadata": {},
   "outputs": [
    {
     "name": "stdout",
     "output_type": "stream",
     "text": [
      "Index(['perimeter_0', 'perimeter_1', 'perimeter_2', 'radius_0', 'radius_1',\n",
      "       'radius_2', 'texture_0', 'texture_1', 'texture_2'],\n",
      "      dtype='object')\n"
     ]
    }
   ],
   "source": [
    "print(x.columns)"
   ]
  },
  {
   "cell_type": "code",
   "execution_count": 247,
   "metadata": {},
   "outputs": [
    {
     "data": {
      "image/png": "[encoded data removed]",
      "text/plain": [
       "<Figure size 720x288 with 1 Axes>"
      ]
     },
     "metadata": {},
     "output_type": "display_data"
    },
    {
     "data": {
      "image/png": "[encoded data removed]",
      "text/plain": [
       "<Figure size 720x288 with 1 Axes>"
      ]
     },
     "metadata": {},
     "output_type": "display_data"
    }
   ],
   "source": [
    "##PCA Unscaled data\n",
    "\n",
    "from sklearn.decomposition import PCA\n",
    "\n",
    "pca = PCA(9)\n",
    "projected = pca.fit_transform(X)\n",
    "pca_inversed_data = pca.inverse_transform(np.eye(9))\n",
    "\n",
    "plt.style.use('seaborn')\n",
    "\n",
    "def plot_pca():\n",
    "    plt.figure(figsize=(10, 4))\n",
    "    plt.plot(pca_inversed_data.mean(axis=0), '--o', label = 'mean')\n",
    "    plt.plot(np.square(pca_inversed_data.std(axis=0)), '--o', label = 'variance')\n",
    "    plt.ylabel('Feature Contribution')\n",
    "    plt.xlabel('Feature Index')\n",
    "    plt.legend(loc='best')\n",
    "    plt.xticks(np.arange(0, 9, 1.0))\n",
    "    plt.show()\n",
    "\n",
    "    plt.figure(figsize = (10, 4))\n",
    "    plt.plot(np.cumsum(pca.explained_variance_ratio_), '--o')\n",
    "    plt.xlabel('Principal Component')\n",
    "    plt.ylabel('Cumulative Explained Variance')\n",
    "    plt.xticks(np.arange(0, 9, 1.0))\n",
    "    plt.show()\n",
    "\n",
    "plot_pca()"
   ]
  },
  {
   "cell_type": "code",
   "execution_count": 39,
   "metadata": {},
   "outputs": [],
   "source": [
    "#Feature Scaling\n",
    "from sklearn.preprocessing import StandardScaler\n",
    "sc = StandardScaler()\n",
    "X_train = sc.fit_transform(X_train)\n",
    "X_test = sc.transform(X_test)"
   ]
  },
  {
   "cell_type": "code",
   "execution_count": 250,
   "metadata": {},
   "outputs": [
    {
     "data": {
      "image/png": "[encoded data removed]",
      "text/plain": [
       "<Figure size 720x288 with 1 Axes>"
      ]
     },
     "metadata": {},
     "output_type": "display_data"
    },
    {
     "data": {
      "image/png": "[encoded data removed]",
      "text/plain": [
       "<Figure size 720x288 with 1 Axes>"
      ]
     },
     "metadata": {},
     "output_type": "display_data"
    }
   ],
   "source": [
    "##PCA Scaled Data\n",
    "\n",
    "projected_scaled = pca.fit_transform(X_train)\n",
    "pca_inversed_data = pca.inverse_transform(np.eye(9))\n",
    "\n",
    "plot_pca()"
   ]
  },
  {
   "cell_type": "code",
   "execution_count": 40,
   "metadata": {},
   "outputs": [],
   "source": [
    "def models(X_train,Y_train):\n",
    "  \n",
    "  #Using Logistic Regression \n",
    "  from sklearn.linear_model import LogisticRegression\n",
    "  log = LogisticRegression(random_state = 0)\n",
    "  log.fit(X_train, Y_train)\n",
    "  \n",
    "  #Using KNeighborsClassifier \n",
    "  from sklearn.neighbors import KNeighborsClassifier\n",
    "  knn = KNeighborsClassifier(n_neighbors = 5, metric = 'minkowski', p = 2)\n",
    "  knn.fit(X_train, Y_train)\n",
    "\n",
    "  #Using SVC linear\n",
    "  from sklearn.svm import SVC\n",
    "  svc_lin = SVC(kernel = 'linear', random_state = 0)\n",
    "  svc_lin.fit(X_train, Y_train)\n",
    "\n",
    "  #Using SVC rbf\n",
    "  from sklearn.svm import SVC\n",
    "  svc_rbf = SVC(kernel = 'rbf', random_state = 0)\n",
    "  svc_rbf.fit(X_train, Y_train)\n",
    "\n",
    "  #Using GaussianNB \n",
    "  from sklearn.naive_bayes import GaussianNB\n",
    "  gauss = GaussianNB()\n",
    "  gauss.fit(X_train, Y_train)\n",
    "\n",
    "  #Using DecisionTreeClassifier \n",
    "  from sklearn.tree import DecisionTreeClassifier\n",
    "  tree = DecisionTreeClassifier(criterion = 'entropy', random_state = 0)\n",
    "  tree.fit(X_train, Y_train)\n",
    "\n",
    "  #Using RandomForestClassifier method of ensemble class to use Random Forest Classification algorithm\n",
    "  from sklearn.ensemble import RandomForestClassifier\n",
    "  forest = RandomForestClassifier(n_estimators = 10, criterion = 'entropy', random_state = 0)\n",
    "  forest.fit(X_train, Y_train)\n",
    "  \n",
    "  #print model accuracy on the training data.\n",
    "  print('[0]Logistic Regression Training Accuracy:', log.score(X_train, Y_train))\n",
    "  print('[1]K Nearest Neighbor Training Accuracy:', knn.score(X_train, Y_train))\n",
    "  print('[2]Support Vector Machine (Linear Classifier) Training Accuracy:', svc_lin.score(X_train, Y_train))\n",
    "  print('[3]Support Vector Machine (RBF Classifier) Training Accuracy:', svc_rbf.score(X_train, Y_train))\n",
    "  print('[4]Gaussian Naive Bayes Training Accuracy:', gauss.score(X_train, Y_train))\n",
    "  print('[5]Decision Tree Classifier Training Accuracy:', tree.score(X_train, Y_train))\n",
    "  print('[6]Random Forest Classifier Training Accuracy:', forest.score(X_train, Y_train))\n",
    "  \n",
    "  return log, knn, svc_lin, svc_rbf, gauss, tree, forest"
   ]
  },
  {
   "cell_type": "code",
   "execution_count": 41,
   "metadata": {},
   "outputs": [
    {
     "name": "stdout",
     "output_type": "stream",
     "text": [
      "[0]Logistic Regression Training Accuracy: 0.9161073825503355\n",
      "[1]K Nearest Neighbor Training Accuracy: 0.9194630872483222\n",
      "[2]Support Vector Machine (Linear Classifier) Training Accuracy: 0.9194630872483222\n",
      "[3]Support Vector Machine (RBF Classifier) Training Accuracy: 0.9496644295302014\n",
      "[4]Gaussian Naive Bayes Training Accuracy: 0.9093959731543624\n",
      "[5]Decision Tree Classifier Training Accuracy: 1.0\n",
      "[6]Random Forest Classifier Training Accuracy: 0.9899328859060402\n"
     ]
    }
   ],
   "source": [
    "model = models(X_train,y_train)"
   ]
  },
  {
   "cell_type": "code",
   "execution_count": 42,
   "metadata": {},
   "outputs": [
    {
     "name": "stdout",
     "output_type": "stream",
     "text": [
      "[[30  1]\n",
      " [ 5 64]]\n",
      "Model[0] Testing Accuracy = \"0.94!\"\n",
      "\n",
      "[[29  2]\n",
      " [ 3 66]]\n",
      "Model[1] Testing Accuracy = \"0.95!\"\n",
      "\n",
      "[[30  1]\n",
      " [ 7 62]]\n",
      "Model[2] Testing Accuracy = \"0.92!\"\n",
      "\n",
      "[[30  1]\n",
      " [ 6 63]]\n",
      "Model[3] Testing Accuracy = \"0.93!\"\n",
      "\n",
      "[[30  1]\n",
      " [ 5 64]]\n",
      "Model[4] Testing Accuracy = \"0.94!\"\n",
      "\n",
      "[[30  1]\n",
      " [ 7 62]]\n",
      "Model[5] Testing Accuracy = \"0.92!\"\n",
      "\n",
      "[[31  0]\n",
      " [ 2 67]]\n",
      "Model[6] Testing Accuracy = \"0.98!\"\n",
      "\n"
     ]
    }
   ],
   "source": [
    "from sklearn.metrics import confusion_matrix\n",
    "for i in range(len(model)):\n",
    "  cm = confusion_matrix(y_test, model[i].predict(X_test))\n",
    "  \n",
    "  TN = cm[0][0]\n",
    "  TP = cm[1][1]\n",
    "  FN = cm[1][0]\n",
    "  FP = cm[0][1]\n",
    "  \n",
    "  print(cm)\n",
    "  print('Model[{}] Testing Accuracy = \"{}!\"'.format(i,  (TP + TN) / (TP + TN + FN + FP)))\n",
    "  print()# Print a new line"
   ]
  },
  {
   "cell_type": "code",
   "execution_count": 231,
   "metadata": {},
   "outputs": [
    {
     "data": {
      "text/plain": [
       "0.9090339909234046"
      ]
     },
     "execution_count": 231,
     "metadata": {},
     "output_type": "execute_result"
    }
   ],
   "source": [
    "################################## k fold cross validation\n",
    "from sklearn.model_selection import StratifiedKFold,cross_val_score\n",
    "skf = StratifiedKFold(n_splits=5, shuffle=True, random_state=42)\n",
    "skf.get_n_splits(X_train, y_train)\n",
    "results = cross_val_score(model[6], X_train, y_train, cv=skf, n_jobs=1, scoring='accuracy')\n",
    "results.mean()"
   ]
  },
  {
   "cell_type": "code",
   "execution_count": 51,
   "metadata": {},
   "outputs": [
    {
     "name": "stdout",
     "output_type": "stream",
     "text": [
      "Fitting 3 folds for each of 100 candidates, totalling 300 fits\n"
     ]
    },
    {
     "name": "stderr",
     "output_type": "stream",
     "text": [
      "[Parallel(n_jobs=-1)]: Using backend LokyBackend with 8 concurrent workers.\n",
      "[Parallel(n_jobs=-1)]: Done  25 tasks      | elapsed:    3.0s\n",
      "[Parallel(n_jobs=-1)]: Done 151 tasks      | elapsed:    5.5s\n",
      "[Parallel(n_jobs=-1)]: Done 300 out of 300 | elapsed:    8.7s finished\n"
     ]
    },
    {
     "data": {
      "text/plain": [
       "{'n_estimators': 157,\n",
       " 'min_samples_split': 2,\n",
       " 'min_samples_leaf': 4,\n",
       " 'max_features': 'sqrt',\n",
       " 'max_depth': 10,\n",
       " 'bootstrap': True}"
      ]
     },
     "execution_count": 51,
     "metadata": {},
     "output_type": "execute_result"
    }
   ],
   "source": [
    "################################## hyperparameter tuning with Grid Search\n",
    "from sklearn.model_selection import RandomizedSearchCV\n",
    "import numpy as np\n",
    "from sklearn.ensemble import RandomForestClassifier\n",
    "n_estimators = [int(x) for x in np.linspace(start=10, stop=200, num=10)]\n",
    "max_features = ['auto', 'sqrt']\n",
    "max_depth = [int(x) for x in np.linspace(10, 110, num=11)]\n",
    "max_depth.append(None)\n",
    "min_samples_split = [2, 5, 10]\n",
    "min_samples_leaf = [1, 2, 4]\n",
    "bootstrap = [True, False]\n",
    "\n",
    "random_grid = {'n_estimators': n_estimators, 'max_features': max_features,\n",
    "               'max_depth': max_depth, 'min_samples_split': min_samples_split,\n",
    "               'min_samples_leaf': min_samples_leaf, 'bootstrap': bootstrap}\n",
    "\n",
    "rand_forest = RandomForestClassifier(random_state=42)\n",
    "\n",
    "rf_random = RandomizedSearchCV(estimator=rand_forest, param_distributions=random_grid, n_iter=100, cv=3, \n",
    "                               verbose=2, random_state=42, n_jobs=-1)\n",
    "rf_random.fit(X_train, y_train)\n",
    "rf_random.best_params_"
   ]
  },
  {
   "cell_type": "code",
   "execution_count": 52,
   "metadata": {},
   "outputs": [
    {
     "name": "stdout",
     "output_type": "stream",
     "text": [
      "\n",
      "Accuracy for training set for Random Forest = 0.959731543624161\n",
      "Accuracy for test set for Random Forest = 0.94\n"
     ]
    }
   ],
   "source": [
    "#########################################  Random Forest  #############################################################\n",
    "\n",
    "classifier_rf = RandomForestClassifier(n_estimators= 157,\n",
    " min_samples_split = 2,\n",
    " min_samples_leaf = 4,\n",
    " max_features = 'sqrt',\n",
    " max_depth = 10,\n",
    " bootstrap = True)\n",
    "classifier_rf.fit(X_train, y_train)\n",
    "\n",
    "# Predicting the Test set results\n",
    "y_pred = classifier_rf.predict(X_test)\n",
    "\n",
    "from sklearn.metrics import confusion_matrix\n",
    "cm_test = confusion_matrix(y_pred, y_test)\n",
    "\n",
    "y_pred_train = classifier_rf.predict(X_train)\n",
    "cm_train = confusion_matrix(y_pred_train, y_train)\n",
    "\n",
    "print()\n",
    "print('Accuracy for training set for Random Forest = {}'.format((cm_train[0][0] + cm_train[1][1])/len(y_train)))\n",
    "print('Accuracy for test set for Random Forest = {}'.format((cm_test[0][0] + cm_test[1][1])/len(y_test)))"
   ]
  },
  {
   "cell_type": "code",
   "execution_count": 43,
   "metadata": {},
   "outputs": [
    {
     "name": "stdout",
     "output_type": "stream",
     "text": [
      "Feature: 0, Score: 0.14573\n",
      "Feature: 1, Score: 0.29420\n",
      "Feature: 2, Score: 0.02362\n",
      "Feature: 3, Score: 0.12066\n",
      "Feature: 4, Score: 0.27013\n",
      "Feature: 5, Score: 0.02848\n",
      "Feature: 6, Score: 0.02913\n",
      "Feature: 7, Score: 0.02806\n",
      "Feature: 8, Score: 0.05999\n"
     ]
    },
    {
     "data": {
      "image/png": "[encoded data removed]",
      "text/plain": [
       "<Figure size 576x432 with 1 Axes>"
      ]
     },
     "metadata": {
      "needs_background": "light"
     },
     "output_type": "display_data"
    }
   ],
   "source": [
    "importance = model[6].feature_importances_\n",
    "# summarize feature importance\n",
    "for i,v in enumerate(importance):\n",
    "\tprint('Feature: %0d, Score: %.5f' % (i,v))\n",
    "# plot feature importance\n",
    "plt.bar([x for x in range(len(importance))], importance)\n",
    "plt.show()"
   ]
  },
  {
   "cell_type": "code",
   "execution_count": 183,
   "metadata": {},
   "outputs": [
    {
     "name": "stdout",
     "output_type": "stream",
     "text": [
      "perimeter_0 429.4069124291045\n",
      "perimeter_1 275.841464110235\n",
      "texture_0 263.462298496134\n",
      "radius_2 245.16259090515913\n",
      "treatment_date 25.020911054697915\n",
      "perimeter_2 21.310513419176594\n",
      "age 9.298413573905725\n",
      "texture_1 7.044073068037736\n",
      "radius_0 0.3015436909058165\n",
      "radius_1 0.05698771385779288\n"
     ]
    }
   ],
   "source": [
    "##Univariate Analysis\n",
    "\n",
    "from sklearn.feature_selection import SelectKBest\n",
    "\n",
    "select = SelectKBest()\n",
    "select.fit(X_train, y_train)\n",
    "scores = select.scores_\n",
    "# Show the scores in a table\n",
    "feature_scores = zip(cancer_train_data.columns.values.tolist(), scores)\n",
    "ordered_feature_scores = sorted(feature_scores, key=lambda x: x[1], reverse=True)\n",
    "for feature, score in ordered_feature_scores:\n",
    "    print(feature, score)"
   ]
  },
  {
   "cell_type": "code",
   "execution_count": 44,
   "metadata": {},
   "outputs": [],
   "source": [
    "predict_set = cancer_test_data[cancer_test_data.columns.difference(['treatment_date','diagnose_date','age'])].values"
   ]
  },
  {
   "cell_type": "code",
   "execution_count": 64,
   "metadata": {},
   "outputs": [],
   "source": [
    "predict_set = sc.transform(predict_set)"
   ]
  },
  {
   "cell_type": "code",
   "execution_count": 65,
   "metadata": {},
   "outputs": [],
   "source": [
    "prediction = model[6].predict(predict_set)"
   ]
  },
  {
   "cell_type": "code",
   "execution_count": 67,
   "metadata": {},
   "outputs": [],
   "source": [
    "prediction_df = pd.DataFrame(prediction,columns=['cancer_type'])"
   ]
  },
  {
   "cell_type": "code",
   "execution_count": 70,
   "metadata": {},
   "outputs": [],
   "source": [
    "prediction_df.to_csv(\"Technical Interview/task_1_cancer/submission.csv\",index=False)"
   ]
  }
 ],
 "metadata": {
  "kernelspec": {
   "display_name": "Python 3",
   "language": "python",
   "name": "python3"
  },
  "language_info": {
   "codemirror_mode": {
    "name": "ipython",
    "version": 3
   },
   "file_extension": ".py",
   "mimetype": "text/x-python",
   "name": "python",
   "nbconvert_exporter": "python",
   "pygments_lexer": "ipython3",
   "version": "3.7.3"
  }
 },
 "nbformat": 4,
 "nbformat_minor": 4
}
